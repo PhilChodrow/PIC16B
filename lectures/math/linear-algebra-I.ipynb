{
 "cells": [
  {
   "cell_type": "markdown",
   "id": "db5748ac",
   "metadata": {},
   "source": [
    "# Linear Algebra I\n",
    "\n",
    "Linear algebra is a core topic in modern applied mathematics. Essentially every important method in statistics, data science, and machine learning is built on linear algebra. Indeed, deep neural networks, which we will discuss shortly, are built on a foundation of matrix multiplication coupled with simple nonlinear functions. \n",
    "\n",
    "<figure class=\"image\" style=\"width:30%\">\n",
    "  <img src=\"https://imgs.xkcd.com/comics/machine_learning_2x.png\" alt=\"\">\n",
    "  <figcaption><i></i></figcaption>\n",
    "</figure>\n",
    "\n",
    "In this lecture, we'll see how to perform several important operations in linear algebra using our good friend, Numpy. These operations include: \n",
    "\n",
    "- Matrix multiplication. \n",
    "- Exact and approximate solutions to linear systems. \n",
    "- Singular value and eigenvalue-eigenvector decompositions. \n",
    "\n",
    "Along the way, we'll show several examples from statistics and applied mathematics, including simulation of partial differential equations; least-squares regression; and image compression. \n",
    "\n",
    "This is probably the lecture in which things will get \"the most mathematical.\" Comfort with concepts from Math 33A or equivalent will be helpful. If you're not familiar with these concepts, that's ok -- feel free to ask questions. We'll all get through this just fine. "
   ]
  },
  {
   "cell_type": "code",
   "execution_count": 1,
   "id": "051120b9",
   "metadata": {},
   "outputs": [],
   "source": [
    "# no fancy packages this time! just our good friends numpy and matplotlib\n",
    "import numpy as np\n",
    "from matplotlib import pyplot as plt\n",
    "np.random.seed(1234)"
   ]
  },
  {
   "cell_type": "markdown",
   "id": "4b5b3ff1",
   "metadata": {},
   "source": [
    "## Basic Matrix Operations\n",
    "\n",
    "A *matrix* is a two-dimensional array of numbers. "
   ]
  },
  {
   "cell_type": "code",
   "execution_count": 2,
   "id": "0155704f",
   "metadata": {},
   "outputs": [
    {
     "data": {
      "text/plain": [
       "array([[4, 7, 6, 5, 9],\n",
       "       [2, 8, 7, 9, 1],\n",
       "       [6, 1, 7, 3, 1],\n",
       "       [6, 3, 7, 4, 8],\n",
       "       [1, 1, 4, 3, 4]])"
      ]
     },
     "execution_count": 2,
     "metadata": {},
     "output_type": "execute_result"
    }
   ],
   "source": [
    "# random matrix data to play with\n",
    "n = 5\n",
    "A = np.random.randint(1, 10, size = (n, n))\n",
    "A"
   ]
  },
  {
   "cell_type": "markdown",
   "id": "cedfe61e",
   "metadata": {},
   "source": [
    "Matrices admit several standard operations, including: "
   ]
  },
  {
   "cell_type": "code",
   "execution_count": 3,
   "id": "8fc6a898",
   "metadata": {},
   "outputs": [
    {
     "data": {
      "text/plain": [
       "array([[ 8, 14, 12, 10, 18],\n",
       "       [ 4, 16, 14, 18,  2],\n",
       "       [12,  2, 14,  6,  2],\n",
       "       [12,  6, 14,  8, 16],\n",
       "       [ 2,  2,  8,  6,  8]])"
      ]
     },
     "execution_count": 3,
     "metadata": {},
     "output_type": "execute_result"
    }
   ],
   "source": [
    "# scalar multiplication\n",
    "2*A"
   ]
  },
  {
   "cell_type": "code",
   "execution_count": 4,
   "id": "cc59f510",
   "metadata": {},
   "outputs": [
    {
     "data": {
      "text/plain": [
       "array([[4, 2, 6, 6, 1],\n",
       "       [7, 8, 1, 3, 1],\n",
       "       [6, 7, 7, 7, 4],\n",
       "       [5, 9, 3, 4, 3],\n",
       "       [9, 1, 1, 8, 4]])"
      ]
     },
     "execution_count": 4,
     "metadata": {},
     "output_type": "execute_result"
    }
   ],
   "source": [
    "# transposition\n",
    "A.T"
   ]
  },
  {
   "cell_type": "code",
   "execution_count": 5,
   "id": "74293632",
   "metadata": {},
   "outputs": [
    {
     "data": {
      "text/plain": [
       "array([[4. , 4.5, 6. , 5.5, 5. ],\n",
       "       [4.5, 8. , 4. , 6. , 1. ],\n",
       "       [6. , 4. , 7. , 5. , 2.5],\n",
       "       [5.5, 6. , 5. , 4. , 5.5],\n",
       "       [5. , 1. , 2.5, 5.5, 4. ]])"
      ]
     },
     "execution_count": 5,
     "metadata": {},
     "output_type": "execute_result"
    }
   ],
   "source": [
    "# application of transposition: a \"symmetrized\" version of A\n",
    "# symmetric matrices satisfy A = A.T\n",
    "(A + A.T)/2"
   ]
  },
  {
   "cell_type": "markdown",
   "id": "0ebb0d40",
   "metadata": {},
   "source": [
    "Inversion is an especially important matrix operation. The inverse $\\mathbf{A}^{-1}$ of a square matrix $\\mathbf{A}$ satisfies $\\mathbf{A}\\mathbf{A}^{-1} = \\mathbf{I}$, where $\\mathbf{I}$ is the identity matrix. We'll see how to multiply matrices and check this in a sec. "
   ]
  },
  {
   "cell_type": "code",
   "execution_count": 6,
   "id": "80fa14b2",
   "metadata": {},
   "outputs": [
    {
     "data": {
      "text/plain": [
       "array([[-0.30292479,  0.12743733, -0.1810585 ,  0.58704735, -0.47910864],\n",
       "       [ 0.38857939, -0.07381616,  0.19777159, -0.42200557, -0.06128134],\n",
       "       [ 0.48746518, -0.23955432,  0.5097493 , -0.84122563,  0.51810585],\n",
       "       [-0.65529248,  0.33774373, -0.51810585,  0.88370474, -0.24791086],\n",
       "       [-0.01740947, -0.02715877, -0.12534819,  0.13718663,  0.05292479]])"
      ]
     },
     "execution_count": 6,
     "metadata": {},
     "output_type": "execute_result"
    }
   ],
   "source": [
    "# inverse of A\n",
    "A_inv = np.linalg.inv(A) \n",
    "A_inv"
   ]
  },
  {
   "cell_type": "markdown",
   "id": "ab81e0ea",
   "metadata": {},
   "source": [
    "## Matrix multiplication"
   ]
  },
  {
   "cell_type": "code",
   "execution_count": 7,
   "id": "8be3aba9",
   "metadata": {},
   "outputs": [],
   "source": [
    "# random vector\n",
    "b = np.random.randint(1, 5, size = n)"
   ]
  },
  {
   "cell_type": "code",
   "execution_count": 8,
   "id": "82692921",
   "metadata": {},
   "outputs": [
    {
     "data": {
      "text/plain": [
       "array([98, 86, 52, 88, 47])"
      ]
     },
     "execution_count": 8,
     "metadata": {},
     "output_type": "execute_result"
    }
   ],
   "source": [
    "# matrix-vector product\n",
    "A.dot(b)\n",
    "\n",
    "# modern, convenient syntax -- same effect\n",
    "A@b"
   ]
  },
  {
   "cell_type": "code",
   "execution_count": 9,
   "id": "e160aba8",
   "metadata": {},
   "outputs": [
    {
     "data": {
      "text/plain": [
       "array([ True,  True,  True,  True,  True])"
      ]
     },
     "execution_count": 9,
     "metadata": {},
     "output_type": "execute_result"
    }
   ],
   "source": [
    "A.dot(b) == A@b"
   ]
  },
  {
   "cell_type": "code",
   "execution_count": 10,
   "id": "ec830806",
   "metadata": {},
   "outputs": [
    {
     "data": {
      "text/plain": [
       "array([[172,  91, 202, 149, 203],\n",
       "       [166,  89, 169, 108, 148],\n",
       "       [ 85,  56, 135,  90, 120],\n",
       "       [146,  86, 193, 145, 191],\n",
       "       [ 78,  42,  86,  74,  83]])"
      ]
     },
     "execution_count": 10,
     "metadata": {},
     "output_type": "execute_result"
    }
   ],
   "source": [
    "# random matrix\n",
    "B = np.random.randint(1, 10, size = (n, n))\n",
    "\n",
    "# matrix-matrix product (same as A.dot(B))\n",
    "A@B"
   ]
  },
  {
   "cell_type": "code",
   "execution_count": 11,
   "id": "06a17aa4",
   "metadata": {},
   "outputs": [
    {
     "data": {
      "text/plain": [
       "array([[ 1.00000000e+00,  2.77555756e-17,  8.32667268e-17,\n",
       "        -1.38777878e-16, -8.32667268e-17],\n",
       "       [-1.49186219e-16,  1.00000000e+00, -2.49800181e-16,\n",
       "         8.32667268e-17,  5.55111512e-17],\n",
       "       [ 7.28583860e-17, -8.32667268e-17,  1.00000000e+00,\n",
       "         8.32667268e-17,  0.00000000e+00],\n",
       "       [ 1.38777878e-16, -2.22044605e-16, -2.22044605e-16,\n",
       "         1.00000000e+00,  2.22044605e-16],\n",
       "       [-4.16333634e-17, -1.11022302e-16,  0.00000000e+00,\n",
       "         7.77156117e-16,  1.00000000e+00]])"
      ]
     },
     "execution_count": 11,
     "metadata": {},
     "output_type": "execute_result"
    }
   ],
   "source": [
    "# checking our inverse from earlier\n",
    "# observe--finite precision arithmetic! \n",
    "A @ A_inv"
   ]
  },
  {
   "cell_type": "code",
   "execution_count": 12,
   "id": "dbc4f3f5",
   "metadata": {},
   "outputs": [
    {
     "data": {
      "text/plain": [
       "<matplotlib.image.AxesImage at 0x7fab3a49cc40>"
      ]
     },
     "execution_count": 12,
     "metadata": {},
     "output_type": "execute_result"
    },
    {
     "data": {
      "image/png": "[encoded data removed]",
      "text/plain": [
       "<Figure size 432x288 with 1 Axes>"
      ]
     },
     "metadata": {
      "needs_background": "light"
     },
     "output_type": "display_data"
    }
   ],
   "source": [
    "plt.imshow(A@A_inv) # looks like the identity matrix"
   ]
  },
  {
   "cell_type": "code",
   "execution_count": 13,
   "id": "7093bd65",
   "metadata": {},
   "outputs": [
    {
     "data": {
      "text/plain": [
       "array([[ True,  True,  True,  True,  True],\n",
       "       [ True,  True,  True,  True,  True],\n",
       "       [ True,  True,  True,  True,  True],\n",
       "       [ True,  True,  True,  True,  True],\n",
       "       [ True,  True,  True,  True,  True]])"
      ]
     },
     "execution_count": 13,
     "metadata": {},
     "output_type": "execute_result"
    }
   ],
   "source": [
    "# identity matrix\n",
    "I_n = np.eye(n)\n",
    "\n",
    "# check the result to within machine precision, entrywise\n",
    "np.isclose(I_n, A@A_inv)"
   ]
  },
  {
   "cell_type": "code",
   "execution_count": 14,
   "id": "8afaf3b4",
   "metadata": {},
   "outputs": [
    {
     "data": {
      "text/plain": [
       "True"
      ]
     },
     "execution_count": 14,
     "metadata": {},
     "output_type": "execute_result"
    }
   ],
   "source": [
    "# aggregates the above\n",
    "np.allclose(I_n, A@A_inv)"
   ]
  },
  {
   "cell_type": "markdown",
   "id": "7b4d46fe",
   "metadata": {},
   "source": [
    "## Application: Simulating Heat Diffusion\n",
    "\n",
    "Matrix multiplication provides a simple way to simulate 1-dimensional partial differential equations in discrete time. For example, the 1-d heat equation reads\n",
    "\n",
    "$$\\frac{\\partial f(x, t)}{\\partial t} = \\frac{\\partial^2 f}{\\partial x^2 }\\;.$$\n",
    "\n",
    "In a discrete approximation, we can write this as \n",
    "\n",
    "$$f(x_i, t + 1) - f(x_i, t) \\approx \\epsilon\\left[f(x_{i+1}, t) - 2f(x_i, t) + f(x_{i-1}, t)\\right]\\;,$$\n",
    "\n",
    "where $\\epsilon$ is a small positive number that controls the timescale of the approximation. \n",
    "\n",
    "We can write the righthand side of this equation as a matrix-vector product:\n",
    "\n",
    "- Let $\\mathbf{v}(t)$ be the values of $f(\\mathbf{x}, t)$ -- that is, $v_i = f(x_i)$. \n",
    "- Let $\\mathbf{A}$ be the *transition operator*: \n",
    "\n",
    "$$\n",
    "\\mathbf{A} = \\left[\\begin{matrix}\n",
    "    -2 &  1 & 0 & \\cdots& 0& 0 & 0\\\\\n",
    "     1 & -2 & 1 & \\cdots & 0& 0 &  0\\\\\n",
    "     0 & 1 & -2 & \\cdots & 0& 0 &  0\\\\\n",
    "     \\vdots & \\vdots &\\vdots & \\ddots &  \\vdots & \\vdots & \\vdots \\\\ \n",
    "     0  & 0  & 0  & \\cdots   & -2     & 1 & 0\\\\\n",
    "     0  & 0  & 0  & \\cdots   & 1     & -2 & 1\\\\\n",
    "     0 & 0  & 0  & \\cdots & 0     & 1     & -2 \\\\\n",
    "\\end{matrix}\\right]\n",
    "$$\n",
    "\n",
    "This transition operator has the property that $[\\mathbf{A}\\mathbf{v}]_i$ is equal to the righthand side of the discrete approximation, for $i = 2,\\ldots,n-1$. That is, we can write \n",
    "\n",
    "$$\n",
    "\\mathbf{v}(t+1) = \\mathbf{v}(t) + \\epsilon \\mathbf{A}\\mathbf{v}(t) = (\\mathbf{I} + \\epsilon\\mathbf{A})\\mathbf{v}(t)\n",
    "$$\n",
    "\n",
    "Note that there are issues at the boundary (i.e. where $i = 1$ or $i = n$), and further modeling decisions must be made in order to handle these. In the transition operator above, we are effectively allowing heat to escape at the boundaries. \n",
    "\n",
    "To simulate heat diffusion in Python, we can just build this transition operator as a matrix (`numpy` array) and then iterate this update. "
   ]
  },
  {
   "cell_type": "code",
   "execution_count": 15,
   "id": "be489814",
   "metadata": {},
   "outputs": [],
   "source": [
    "# size of simulation\n",
    "n = 201\n",
    "\n",
    "# Construct A using the handy np.diag() function\n",
    "A = -2*np.eye(n)\n",
    "A += np.diag(np.ones(n-1), 1)\n",
    "A += np.diag(np.ones(n-1), -1)"
   ]
  },
  {
   "cell_type": "code",
   "execution_count": 16,
   "id": "f2a563e7",
   "metadata": {},
   "outputs": [
    {
     "data": {
      "text/plain": [
       "[<matplotlib.lines.Line2D at 0x7fab3a6afc10>]"
      ]
     },
     "execution_count": 16,
     "metadata": {},
     "output_type": "execute_result"
    },
    {
     "data": {
      "image/png": "[encoded data removed]",
      "text/plain": [
       "<Figure size 432x288 with 1 Axes>"
      ]
     },
     "metadata": {
      "needs_background": "light"
     },
     "output_type": "display_data"
    }
   ],
   "source": [
    "# construct initial condition: 1 unit of heat at midpoint. \n",
    "v0 = np.zeros(n)\n",
    "v0[int(n/2)] = 1.0\n",
    "plt.plot(v0)"
   ]
  },
  {
   "cell_type": "code",
   "execution_count": 17,
   "id": "5ceb6d76",
   "metadata": {},
   "outputs": [
    {
     "data": {
      "text/plain": [
       "<matplotlib.legend.Legend at 0x7fab3a70ab20>"
      ]
     },
     "execution_count": 17,
     "metadata": {},
     "output_type": "execute_result"
    },
    {
     "data": {
      "image/png": "[encoded data removed]",
      "text/plain": [
       "<Figure size 432x288 with 1 Axes>"
      ]
     },
     "metadata": {
      "needs_background": "light"
     },
     "output_type": "display_data"
    }
   ],
   "source": [
    "# simulate diffusion and plot, time intervals of 50\n",
    "\n",
    "epsilon = 0.4\n",
    "v = v0\n",
    "for t in range(1, 501):\n",
    "    if t % 50 == 0:\n",
    "        plt.plot(np.arange(n), v, label = f\"t = {t}\")\n",
    "    v = v + epsilon * (A @ v)\n",
    "plt.legend()"
   ]
  },
  {
   "cell_type": "markdown",
   "id": "c6f83a19",
   "metadata": {},
   "source": [
    "We observe the bell-shaped curve (Gaussian distribution) characteristic of 1d diffusion, just as we'd expect. Note that once we constructed the discretized approximation, we were able to perform the simulation in Python purely via linear algebra! "
   ]
  },
  {
   "cell_type": "markdown",
   "id": "7b039ac6",
   "metadata": {},
   "source": [
    "## Solving Linear Equations\n",
    "\n",
    "One of the most fundamental tasks in applied mathematics is solving linear systems of the form \n",
    "\n",
    "$$\\mathbf{A}\\mathbf{x} = \\mathbf{b}\\;,$$\n",
    "\n",
    "where $\\mathbf{A} \\in \\mathbb{R}^{n \\times m}$, $\\mathbf{x} \\in \\mathbb{R}^{m}$, and $\\mathbf{b} \\in \\mathbb{R}^{n}$. This equation represents a set of linear relationships between variables, a single one of which looks like this: \n",
    "\n",
    "$$\n",
    "a_{i1}x_1 + a_{i2}x_2 + \\cdots + a_{im}x_m = b_i\\;.\n",
    "$$\n",
    "\n",
    "Collectively, the equations in a linear system define a \"flat space\" called an *affine subspace* of $\\mathbb{R}^m$.  \n",
    "\n",
    "> 1. When $\\mathbf{A}$ is square and of full rank (determinant nonzero), this equation has a unique solution. \n",
    "> 2. When $\\mathbf{A}$ is not square or not of full rank, then this equation may have either 0 or infinitely many solutions. \n",
    "\n",
    "In Case 1 (\"the good case\"), we can use a simple built-in `numpy` method: `np.linalg.solve`. "
   ]
  },
  {
   "cell_type": "code",
   "execution_count": 18,
   "id": "5b2a7a41",
   "metadata": {},
   "outputs": [
    {
     "data": {
      "text/plain": [
       "array([ 0.73684211,  0.21052632, -1.61403509,  1.77192982, -0.66666667])"
      ]
     },
     "execution_count": 18,
     "metadata": {},
     "output_type": "execute_result"
    }
   ],
   "source": [
    "# solve A@x = b for x\n",
    "\n",
    "n = 5\n",
    "\n",
    "A = np.random.randint(1, 5, size = (n, n))\n",
    "b = np.random.randint(1, 5, size = n)\n",
    "\n",
    "x = np.linalg.solve(A, b)\n",
    "x"
   ]
  },
  {
   "cell_type": "code",
   "execution_count": 19,
   "id": "079caf0f",
   "metadata": {},
   "outputs": [
    {
     "data": {
      "text/plain": [
       "True"
      ]
     },
     "execution_count": 19,
     "metadata": {},
     "output_type": "execute_result"
    }
   ],
   "source": [
    "np.allclose(A @ x, b)"
   ]
  },
  {
   "cell_type": "code",
   "execution_count": 20,
   "id": "31ae98b2",
   "metadata": {},
   "outputs": [
    {
     "data": {
      "text/plain": [
       "True"
      ]
     },
     "execution_count": 20,
     "metadata": {},
     "output_type": "execute_result"
    }
   ],
   "source": [
    "# manual approach (not as efficient)\n",
    "# compute the inverse explicitly and \n",
    "# premultiply by it\n",
    "\n",
    "x_ = np.linalg.inv(A) @ b\n",
    "np.allclose(x_, x)"
   ]
  },
  {
   "cell_type": "markdown",
   "id": "907f803d",
   "metadata": {},
   "source": [
    "In Case 2 (\"the bad case\"), in which the matrix is either not of full rank or not square, we need to resort to subtler means. Suppose that the matrix $\\mathbf{A}$ has more rows than columns: "
   ]
  },
  {
   "cell_type": "code",
   "execution_count": 21,
   "id": "3e2fc1f1",
   "metadata": {},
   "outputs": [
    {
     "data": {
      "text/plain": [
       "array([[2, 3, 2, 3],\n",
       "       [2, 2, 2, 4],\n",
       "       [1, 4, 4, 2],\n",
       "       [3, 1, 1, 2],\n",
       "       [1, 2, 3, 2]])"
      ]
     },
     "execution_count": 21,
     "metadata": {},
     "output_type": "execute_result"
    }
   ],
   "source": [
    "A_ = np.random.randint(1, 5, size = (n, n-1))\n",
    "A_"
   ]
  },
  {
   "cell_type": "markdown",
   "id": "6b78edbe",
   "metadata": {},
   "source": [
    "In this case, there usually are no exact solutions to the equation $\\mathbf{A}\\mathbf{x} = \\mathbf{b}$. If we try the method from before, `numpy` will complain at us: "
   ]
  },
  {
   "cell_type": "code",
   "execution_count": 22,
   "id": "efa6e65e",
   "metadata": {},
   "outputs": [
    {
     "ename": "LinAlgError",
     "evalue": "Last 2 dimensions of the array must be square",
     "output_type": "error",
     "traceback": [
      "\u001b[0;31m---------------------------------------------------------------------------\u001b[0m",
      "\u001b[0;31mLinAlgError\u001b[0m                               Traceback (most recent call last)",
      "\u001b[0;32m<ipython-input-22-9379ccf0981e>\u001b[0m in \u001b[0;36m<module>\u001b[0;34m\u001b[0m\n\u001b[0;32m----> 1\u001b[0;31m \u001b[0mx\u001b[0m \u001b[0;34m=\u001b[0m \u001b[0mnp\u001b[0m\u001b[0;34m.\u001b[0m\u001b[0mlinalg\u001b[0m\u001b[0;34m.\u001b[0m\u001b[0msolve\u001b[0m\u001b[0;34m(\u001b[0m\u001b[0mA_\u001b[0m\u001b[0;34m,\u001b[0m \u001b[0mb\u001b[0m\u001b[0;34m)\u001b[0m\u001b[0;34m\u001b[0m\u001b[0;34m\u001b[0m\u001b[0m\n\u001b[0m",
      "\u001b[0;32m<__array_function__ internals>\u001b[0m in \u001b[0;36msolve\u001b[0;34m(*args, **kwargs)\u001b[0m\n",
      "\u001b[0;32m~/opt/anaconda3/lib/python3.8/site-packages/numpy/linalg/linalg.py\u001b[0m in \u001b[0;36msolve\u001b[0;34m(a, b)\u001b[0m\n\u001b[1;32m    379\u001b[0m     \u001b[0ma\u001b[0m\u001b[0;34m,\u001b[0m \u001b[0m_\u001b[0m \u001b[0;34m=\u001b[0m \u001b[0m_makearray\u001b[0m\u001b[0;34m(\u001b[0m\u001b[0ma\u001b[0m\u001b[0;34m)\u001b[0m\u001b[0;34m\u001b[0m\u001b[0;34m\u001b[0m\u001b[0m\n\u001b[1;32m    380\u001b[0m     \u001b[0m_assert_stacked_2d\u001b[0m\u001b[0;34m(\u001b[0m\u001b[0ma\u001b[0m\u001b[0;34m)\u001b[0m\u001b[0;34m\u001b[0m\u001b[0;34m\u001b[0m\u001b[0m\n\u001b[0;32m--> 381\u001b[0;31m     \u001b[0m_assert_stacked_square\u001b[0m\u001b[0;34m(\u001b[0m\u001b[0ma\u001b[0m\u001b[0;34m)\u001b[0m\u001b[0;34m\u001b[0m\u001b[0;34m\u001b[0m\u001b[0m\n\u001b[0m\u001b[1;32m    382\u001b[0m     \u001b[0mb\u001b[0m\u001b[0;34m,\u001b[0m \u001b[0mwrap\u001b[0m \u001b[0;34m=\u001b[0m \u001b[0m_makearray\u001b[0m\u001b[0;34m(\u001b[0m\u001b[0mb\u001b[0m\u001b[0;34m)\u001b[0m\u001b[0;34m\u001b[0m\u001b[0;34m\u001b[0m\u001b[0m\n\u001b[1;32m    383\u001b[0m     \u001b[0mt\u001b[0m\u001b[0;34m,\u001b[0m \u001b[0mresult_t\u001b[0m \u001b[0;34m=\u001b[0m \u001b[0m_commonType\u001b[0m\u001b[0;34m(\u001b[0m\u001b[0ma\u001b[0m\u001b[0;34m,\u001b[0m \u001b[0mb\u001b[0m\u001b[0;34m)\u001b[0m\u001b[0;34m\u001b[0m\u001b[0;34m\u001b[0m\u001b[0m\n",
      "\u001b[0;32m~/opt/anaconda3/lib/python3.8/site-packages/numpy/linalg/linalg.py\u001b[0m in \u001b[0;36m_assert_stacked_square\u001b[0;34m(*arrays)\u001b[0m\n\u001b[1;32m    202\u001b[0m         \u001b[0mm\u001b[0m\u001b[0;34m,\u001b[0m \u001b[0mn\u001b[0m \u001b[0;34m=\u001b[0m \u001b[0ma\u001b[0m\u001b[0;34m.\u001b[0m\u001b[0mshape\u001b[0m\u001b[0;34m[\u001b[0m\u001b[0;34m-\u001b[0m\u001b[0;36m2\u001b[0m\u001b[0;34m:\u001b[0m\u001b[0;34m]\u001b[0m\u001b[0;34m\u001b[0m\u001b[0;34m\u001b[0m\u001b[0m\n\u001b[1;32m    203\u001b[0m         \u001b[0;32mif\u001b[0m \u001b[0mm\u001b[0m \u001b[0;34m!=\u001b[0m \u001b[0mn\u001b[0m\u001b[0;34m:\u001b[0m\u001b[0;34m\u001b[0m\u001b[0;34m\u001b[0m\u001b[0m\n\u001b[0;32m--> 204\u001b[0;31m             \u001b[0;32mraise\u001b[0m \u001b[0mLinAlgError\u001b[0m\u001b[0;34m(\u001b[0m\u001b[0;34m'Last 2 dimensions of the array must be square'\u001b[0m\u001b[0;34m)\u001b[0m\u001b[0;34m\u001b[0m\u001b[0;34m\u001b[0m\u001b[0m\n\u001b[0m\u001b[1;32m    205\u001b[0m \u001b[0;34m\u001b[0m\u001b[0m\n\u001b[1;32m    206\u001b[0m \u001b[0;32mdef\u001b[0m \u001b[0m_assert_finite\u001b[0m\u001b[0;34m(\u001b[0m\u001b[0;34m*\u001b[0m\u001b[0marrays\u001b[0m\u001b[0;34m)\u001b[0m\u001b[0;34m:\u001b[0m\u001b[0;34m\u001b[0m\u001b[0;34m\u001b[0m\u001b[0m\n",
      "\u001b[0;31mLinAlgError\u001b[0m: Last 2 dimensions of the array must be square"
     ]
    }
   ],
   "source": [
    "x = np.linalg.solve(A_, b)"
   ]
  },
  {
   "cell_type": "markdown",
   "id": "8389002b",
   "metadata": {},
   "source": [
    "One of the most common ways to approach this kind of problem is to compute the *least-squares approximation*, which is the minimizer $\\mathbf{x}$ of the function \n",
    "\n",
    "$$f(\\mathbf{x}) = \\lVert \\mathbf{A}\\mathbf{x} - \\mathbf{b} \\rVert^2\\; = \\sum_i \\left(b_i - \\sum_j a_{ij} x_{j}\\right)^2.$$\n",
    "\n",
    "Note that, if $\\mathbf{b} \\in \\text{range}(\\mathbf{A})$; that is, if $\\mathbf{b}$ is one of those lucky values such that $\\mathbf{A}\\mathbf{x} = \\mathbf{b}$ does indeed have an exact solution, then we can choose $\\mathbf{x}$ such that $f(\\mathbf{x}) = 0$ by finding the exact solution. \n",
    "\n",
    "Otherwise, we need to satisfy ourself with an approximation, i.e. a value $\\mathbf{x}$ such that $f(\\mathbf{x}) > 0$. "
   ]
  },
  {
   "cell_type": "code",
   "execution_count": 23,
   "id": "f1b76991",
   "metadata": {},
   "outputs": [],
   "source": [
    "# compute the solution x, error f(x), rank of A, and singular values of A\n",
    "x, fx, rank, s = np.linalg.lstsq(A_, b, rcond = None)"
   ]
  },
  {
   "cell_type": "code",
   "execution_count": 24,
   "id": "4645d531",
   "metadata": {},
   "outputs": [
    {
     "data": {
      "text/plain": [
       "array([ 0.48002131, -1.35801811,  1.41928609,  0.2972829 ])"
      ]
     },
     "execution_count": 24,
     "metadata": {},
     "output_type": "execute_result"
    }
   ],
   "source": [
    "x # approximate solution"
   ]
  },
  {
   "cell_type": "code",
   "execution_count": 25,
   "id": "65f0e02e",
   "metadata": {},
   "outputs": [
    {
     "name": "stdout",
     "output_type": "stream",
     "text": [
      "[0.61640916 2.27171018 1.31965903 2.09589771 2.61640916]\n",
      "[1 2 1 2 3]\n"
     ]
    }
   ],
   "source": [
    "print(A_ @ x) # should be close to the below\n",
    "print(b)"
   ]
  },
  {
   "cell_type": "markdown",
   "id": "131f5156",
   "metadata": {},
   "source": [
    "## Application: Linear Regression, Several Ways\n",
    "\n",
    "Actually, the problem of minimizing $f(\\mathbf{x}) = \\lVert \\mathbf{A}\\mathbf{x} - \\mathbf{b} \\rVert^2$ has a special name in statistics -- it's linear regression! Specifically, it's *orderinary least-squares multvariate linear regression*.  It's usually written like this: \n",
    "\n",
    "$$f(\\beta) = \\lVert \\mathbf{X}\\beta - \\mathbf{y} \\rVert^2\\;,$$\n",
    "\n",
    "where $\\mathbf{X}$ is the matrix of observations of the dependent variables, and $\\mathbf{y}$ is the vector of observations of the dependent variable. $\\beta$ is the vector of coefficients, and it's the thing that we want to estimate. We do this by finding an estimate $\\hat{\\beta}$ that makes $f(\\hat{\\beta})$ small. \n",
    "\n",
    "By the way, if you are familiar with the topic of *loss functions* in machine learning, this function $f$ is called the *square-error loss* for estimating $\\mathbf{y}$, and is probably the most important of all loss functions for regression tasks. \n",
    "\n",
    "Let's use least-squares approximation to perform 1d linear regression \"by hand\": "
   ]
  },
  {
   "cell_type": "code",
   "execution_count": 26,
   "id": "998e44dd",
   "metadata": {},
   "outputs": [
    {
     "data": {
      "text/plain": [
       "<matplotlib.collections.PathCollection at 0x7fab3a8f2d90>"
      ]
     },
     "execution_count": 26,
     "metadata": {},
     "output_type": "execute_result"
    },
    {
     "data": {
      "image/png": "[encoded data removed]",
      "text/plain": [
       "<Figure size 432x288 with 1 Axes>"
      ]
     },
     "metadata": {
      "needs_background": "light"
     },
     "output_type": "display_data"
    }
   ],
   "source": [
    "n = 100\n",
    "x = np.random.rand(n)\n",
    "beta = 2\n",
    "y = beta*x + np.random.rand(n) - 0.5\n",
    "plt.scatter(x, y)"
   ]
  },
  {
   "cell_type": "code",
   "execution_count": 27,
   "id": "bff0138b",
   "metadata": {},
   "outputs": [],
   "source": [
    "# formally, x needs to be 2d for this to work\n",
    "# so we give it an extra dimension using reshape\n",
    "x = x.reshape(n, 1)\n",
    "\n",
    "beta_estimate = np.linalg.lstsq(x, y, rcond = None)[0]"
   ]
  },
  {
   "cell_type": "code",
   "execution_count": 28,
   "id": "67701179",
   "metadata": {},
   "outputs": [
    {
     "data": {
      "text/plain": [
       "<matplotlib.legend.Legend at 0x7fab3a957f40>"
      ]
     },
     "execution_count": 28,
     "metadata": {},
     "output_type": "execute_result"
    },
    {
     "data": {
      "image/png": "[encoded data removed]",
      "text/plain": [
       "<Figure size 432x288 with 1 Axes>"
      ]
     },
     "metadata": {
      "needs_background": "light"
     },
     "output_type": "display_data"
    }
   ],
   "source": [
    "plt.scatter(x, y)\n",
    "plt.gca().plot(np.linspace(0, 1), beta_estimate*np.linspace(0, 1), color = \"red\", label = \"estimated relationship\")\n",
    "plt.gca().plot([0,1], [0,2], color = \"black\", label = \"true relationship\")\n",
    "plt.legend()"
   ]
  },
  {
   "cell_type": "markdown",
   "id": "79ce780c",
   "metadata": {},
   "source": [
    "This works in any number of dimensions! \n",
    "\n",
    "In fact, this least-squares problem has an analytic solution in terms of matrix inverses as well, given by \n",
    "\n",
    "$$\n",
    "\\hat{\\beta} = (\\mathbf{X}^T\\mathbf{X})^{-1}\\mathbf{X}^T \\mathbf{y}\\;.\n",
    "$$\n",
    "\n",
    "This matrix computation is easy to implement in Python using tools from the previous section. Rather than creating a plot, let's show how we perform multidimensional regression and recover an estimate of the coefficient vector $\\beta$. "
   ]
  },
  {
   "cell_type": "code",
   "execution_count": 29,
   "id": "81c8e93d",
   "metadata": {},
   "outputs": [
    {
     "data": {
      "text/plain": [
       "(array([0, 1, 2]), array([0.27025418, 1.24981514, 2.19446116]))"
      ]
     },
     "execution_count": 29,
     "metadata": {},
     "output_type": "execute_result"
    }
   ],
   "source": [
    "def least_squares(X, y):\n",
    "    return np.linalg.inv(X.T @ X) @ (X.T) @ y\n",
    "\n",
    "# multidimensional data\n",
    "X = np.random.rand(100, 3)\n",
    "\n",
    "# true value of beta is [0,1,2]\n",
    "beta = np.arange(3)\n",
    "y = X @ beta + np.random.rand() - 0.5\n",
    "\n",
    "beta_hat = least_squares(X, y)\n",
    "beta, beta_hat"
   ]
  },
  {
   "cell_type": "markdown",
   "id": "67a66791",
   "metadata": {},
   "source": [
    "The reason that `numpy` implements a specialized least-squares function like `lstsq` is that the analytic approach can be impractical to compute when the number of columns in `X` is large, as matrix inversion is a very slow operation. "
   ]
  }
 ],
 "metadata": {
  "kernelspec": {
   "display_name": "Python 3",
   "language": "python",
   "name": "python3"
  },
  "language_info": {
   "codemirror_mode": {
    "name": "ipython",
    "version": 3
   },
   "file_extension": ".py",
   "mimetype": "text/x-python",
   "name": "python",
   "nbconvert_exporter": "python",
   "pygments_lexer": "ipython3",
   "version": "3.8.8"
  }
 },
 "nbformat": 4,
 "nbformat_minor": 5
}
