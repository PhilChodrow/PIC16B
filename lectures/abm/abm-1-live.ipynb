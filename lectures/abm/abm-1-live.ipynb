{
 "cells": [
  {
   "cell_type": "markdown",
   "id": "cfb85ff0",
   "metadata": {},
   "source": [
    "# Agent-Based Modeling\n",
    "\n",
    "In this set of lectures, we'll study how to design agent-based models in Python. \n",
    "\n",
    "> An *agent-based model* (ABM) is a simulation model in which many individual entities (*agents*) interact with each other according to fixed rules. \n",
    "\n",
    "ABMs are often used for modeling a wide range of social and biological systems. In fact, you've already seen an example of an ABM: the SIR model of disease spred that we studied in the previous lecture is one. There, we relied on tools from NetworkX and various other familiar programming paradigms. We'll now explore the topic of agent-based modeling from a somewhat more systematic and flexible perspective. \n",
    "\n",
    "There exist a large number of dedicated software packages for agent-based modeling. In this course, we'll use a relatively recent package, called [Mesa](https://mesa.readthedocs.io/en/master/index.html), for agent-based modeling in Python. To install the software, run the following code in your terminal: \n",
    "\n",
    "```\n",
    "conda activate PIC16B\n",
    "conda install -c conda-forge mesa\n",
    "```\n",
    "\n",
    "# The Schelling Model of Racial Segregation\n",
    "\n",
    "In this set of lecture notes, we will implement the Schelling model of racial residential segregation. The Schelling model is a parable of how only *mild* individual biases can lead to highly segregated outcomes. \n",
    "\n",
    "\n",
    "In the Schelling Model, individuals of two types begin arranged randomly on a grid, which is often taken to represent a city. Not all grid squares are occupied. Here's an example starting configuration\n",
    "\n",
    "<figure class=\"image\" style=\"width:50%\">\n",
    "  <img src=\"https://raw.githubusercontent.com/PhilChodrow/PIC16B/master/_images/schelling-screencap.png\" alt=\"\">\n",
    "  <figcaption><i>An example starting configuration in the Schelling model. Image credit: <a href = \"https://ncase.me/polygons/\"> Vi Hart and Nicky Case</a>.</i></figcaption>\n",
    "</figure>\n",
    "\n",
    "Here's how the model works: \n",
    "\n",
    "1. At each timestep, agents look at their surroundings. An agent is **unhappy** if fewer than 1/3 of their neighbors have the same type, and is **happy** otherwise. \n",
    "2. All **unhappy** agents pick a random empty spot and move there. All **happy** agents stay where they are. \n",
    "\n",
    "We run the model until all agents are happy. The fundamental result of the model is that, even though agents have only mild biases -- they simply prefer not to be outnumbered --  acting on their preferences can still lead to highly segregated outcomes, like this: \n",
    "\n",
    "<figure class=\"image\" style=\"width:50%\">\n",
    "  <img src=\"https://raw.githubusercontent.com/PhilChodrow/PIC16B/master/_images/schelling-final.png\" alt=\"\">\n",
    "  <figcaption><i>An example final configuration in the Schelling model. Image credit: <a href = \"https://ncase.me/polygons/\"> Vi Hart and Nicky Case</a>.</i></figcaption>\n",
    "</figure>\n",
    "\n",
    "For an excellent interactive demonstration of the Schelling Model, check out [this blog post](https://ncase.me/polygons/) by Vi Hart and Nicky Case.  \n",
    "\n",
    "### A Note on History\n",
    "\n",
    "The Schelling model does not include any concepts of historical oppression, wealth, or power, all of which contribute to racial segregation. The message of the Schelling model is that these factors are not **needed** for segregation -- mildly racist individual preferences would be enough. It is important, however, not to confuse this mathematical parable with the actual historical circumstances of racial segregation in the US or elsewhere. \n",
    "\n",
    "### Sources\n",
    "\n",
    "These lecture notes are closely based on the [Schelling model example](https://github.com/projectmesa/mesa/tree/main/examples/schelling) in the [official Mesa repository](https://github.com/projectmesa/mesa). They also draw on the [Introductory Tutorial](https://mesa.readthedocs.io/en/master/tutorials/intro_tutorial.html) from the official Mesa documentation.  \n",
    "\n",
    "# Implementing the Schelling Model"
   ]
  },
  {
   "cell_type": "markdown",
   "id": "601ffa74",
   "metadata": {},
   "source": [
    "Let's start by implementing a bare-bones model. While there is some flexibility in how one does this, there are a few common features of most Mesa models: \n",
    "\n",
    "1. There must be an *agent* class, which should inherit from `mesa.Agent`. This class specifies the properties and behaviors of an individual agent in the simulation. \n",
    "    - This class must call  `mesa.Agent.__init__()` as part of its `__init__()` method. \n",
    "    - This class must have a `step()` method which describes the primary individual behavior. \n",
    "2. There must be a *model* class, which should inherit from `mesa.Model`. \n",
    "    - The `__init__()` method of this class is responsible for creating agents with their properties, as well as the space (often a grid) on which the simulation unfolds. \n",
    "    - This class must also have a `step()` method which provides a complete description of what happens in a single model time step. Often, this involves using a `Schedule` to call the `step()` method of each of the agents in some specified sequence. \n",
    "    \n",
    "Let's write a very simple model that demonstrates some of these requirements. Our model won't really do very much yet, but it will demonstrate the key techniques of defining the agent and model, adding agents to the model, and calling the `step()` methods. "
   ]
  },
  {
   "cell_type": "code",
   "execution_count": 13,
   "id": "41b6285e",
   "metadata": {},
   "outputs": [],
   "source": []
  },
  {
   "cell_type": "markdown",
   "id": "6112949c",
   "metadata": {},
   "source": [
    "Let's demonstrate the behavior of our toy model: "
   ]
  },
  {
   "cell_type": "code",
   "execution_count": 14,
   "id": "323b679e",
   "metadata": {},
   "outputs": [],
   "source": []
  },
  {
   "cell_type": "code",
   "execution_count": 15,
   "id": "f64f2900",
   "metadata": {},
   "outputs": [
    {
     "name": "stdout",
     "output_type": "stream",
     "text": [
      "Hi, I'm Agent 009!\n",
      "Hi, I'm Agent 002!\n",
      "Hi, I'm Agent 003!\n",
      "Hi, I'm Agent 005!\n",
      "Hi, I'm Agent 001!\n",
      "Hi, I'm Agent 006!\n",
      "Hi, I'm Agent 004!\n",
      "Hi, I'm Agent 008!\n",
      "Hi, I'm Agent 000!\n",
      "Hi, I'm Agent 007!\n"
     ]
    }
   ],
   "source": []
  },
  {
   "cell_type": "markdown",
   "id": "85ccfd11",
   "metadata": {},
   "source": [
    "Observe that, each time we call `TM.step()`, the model sweeps through the various agents and calls their individual `step()` methods. This is because we created a `RandomActivation` schedule, and added each of the agents to this schedule.\n",
    "\n",
    "With our architecture in place, our next step is learn how to implement more interesting behaviors. \n",
    "\n",
    "## Spatial Grids\n",
    "\n",
    "The Schelling model usually evolves on a grid. At the moment, we don't have a grid incorporated. Fortunately, this is easy to bring in. We simply need to add a `SingleGrid` object with specified width and height. The `torus` argument of the grid determines whether the edges \"wrap around.\" If it is selected, then walking off the left side of the grid will put you back on the right side. This is often visualized as allowing the grid to lie on the surface of a torus, or donut: \n",
    "\n",
    "<figure class=\"image\" style=\"width:30%\">\n",
    "  <img src=\"https://i.stack.imgur.com/ZZrv4.png\" alt=\"\">\n",
    "  <figcaption><i>A toroidal grid.</i></figcaption>\n",
    "</figure>\n",
    "\n",
    "The modifications we need to make to our previous code are relatively simple: \n",
    "\n",
    "1. We need to give each `ToyAgent` a `pos`ition. \n",
    "2. We need to give the model a `grid` instance variable. \n",
    "3. We need to modify our initialization of agents so that we call `self.grid.position_agent(agent, pos)` in order to place each agent on the grid. "
   ]
  },
  {
   "cell_type": "code",
   "execution_count": 16,
   "id": "6e4eacad",
   "metadata": {},
   "outputs": [],
   "source": []
  },
  {
   "cell_type": "markdown",
   "id": "b8f3a9fd",
   "metadata": {},
   "source": [
    "Now we can again instantiate our model. This time, we need to pass `width`, `height`, and `density`. Here, we're creating a 10x10 grid in which roughly 10% of cells have agents in them. "
   ]
  },
  {
   "cell_type": "code",
   "execution_count": 17,
   "id": "42cea0f8",
   "metadata": {},
   "outputs": [
    {
     "name": "stdout",
     "output_type": "stream",
     "text": [
      "Hi, I'm an agent at (2, 7)!\n",
      "Hi, I'm an agent at (9, 2)!\n",
      "Hi, I'm an agent at (9, 8)!\n",
      "Hi, I'm an agent at (8, 6)!\n",
      "Hi, I'm an agent at (1, 7)!\n",
      "Hi, I'm an agent at (7, 9)!\n",
      "Hi, I'm an agent at (4, 5)!\n",
      "Hi, I'm an agent at (2, 5)!\n",
      "Hi, I'm an agent at (6, 7)!\n",
      "Hi, I'm an agent at (3, 8)!\n",
      "Hi, I'm an agent at (9, 5)!\n",
      "Hi, I'm an agent at (1, 8)!\n",
      "Hi, I'm an agent at (3, 9)!\n",
      "Hi, I'm an agent at (8, 7)!\n",
      "Hi, I'm an agent at (1, 3)!\n",
      "Hi, I'm an agent at (3, 3)!\n",
      "Hi, I'm an agent at (3, 0)!\n"
     ]
    }
   ],
   "source": []
  },
  {
   "cell_type": "markdown",
   "id": "cfce30e5",
   "metadata": {},
   "source": [
    "It's also possible to directly extract the grid and visualize it using familiar tools. In a later lecture, however, we'll see some much better ways to visualize the grid. "
   ]
  },
  {
   "cell_type": "code",
   "execution_count": 18,
   "id": "04bb3a84",
   "metadata": {},
   "outputs": [
    {
     "data": {
      "text/plain": [
       "<matplotlib.image.AxesImage at 0x7fb4c8b39bb0>"
      ]
     },
     "execution_count": 18,
     "metadata": {},
     "output_type": "execute_result"
    },
    {
     "data": {
      "image/png": "[encoded data removed]",
      "text/plain": [
       "<Figure size 432x288 with 1 Axes>"
      ]
     },
     "metadata": {
      "needs_background": "light"
     },
     "output_type": "display_data"
    }
   ],
   "source": [
    "import numpy as np\n",
    "from matplotlib import pyplot as plt\n",
    "plt.imshow(np.array(TM.grid.grid) == None)"
   ]
  },
  {
   "cell_type": "markdown",
   "id": "f5ccb63e",
   "metadata": {},
   "source": [
    "# A Basic Schelling Model\n",
    "\n",
    "We're now ready to construct a simple version of the Schelling model. Here are the remaining ingredients we need to bring in: \n",
    "\n",
    "1. Agents need to have *types* associated with them. \n",
    "2. The agents `step()` method should check whether the agent is \"happy\" (i.e. not surrounded by too many neighbors of different `type`, and move them to an empty grid cell if not. The `SingleGrid` class we've used to create the grid provides several useful methods for handling this logic.  "
   ]
  },
  {
   "cell_type": "code",
   "execution_count": 19,
   "id": "dc90016f",
   "metadata": {},
   "outputs": [],
   "source": []
  },
  {
   "cell_type": "code",
   "execution_count": 20,
   "id": "f71e9d70",
   "metadata": {},
   "outputs": [
    {
     "name": "stdout",
     "output_type": "stream",
     "text": [
      "125 agents moved in this timestep\n"
     ]
    }
   ],
   "source": [
    "SM = SchellingModel(20, 20, 0.9, 0.5)\n",
    "SM.step()"
   ]
  },
  {
   "cell_type": "markdown",
   "id": "5e8c3cb4",
   "metadata": {},
   "source": [
    "Here's a function to plot the model state. Dark purple squares are empty; green squares are agents of type `triangle`, and yellow squares are agents of type `square`. "
   ]
  },
  {
   "cell_type": "code",
   "execution_count": 36,
   "id": "2dab2cc8",
   "metadata": {},
   "outputs": [],
   "source": [
    "def viz_state(SM, ax):\n",
    "    G = np.array(SM.grid.grid)\n",
    "    to_viz = np.zeros(G.shape)\n",
    "    \n",
    "    for i in range(G.shape[0]):\n",
    "        for j in range(G.shape[1]):\n",
    "            if G[i,j] is not None:\n",
    "                if G[i,j].type == \"triangle\":\n",
    "                    to_viz[i,j] = 1.0\n",
    "                elif G[i,j].type == \"square\":\n",
    "                    to_viz[i,j] = -1.0\n",
    "    ax.imshow(to_viz, cmap = \"Spectral\", vmin = -1.5, vmax = 1.5)"
   ]
  },
  {
   "cell_type": "markdown",
   "id": "538352b5",
   "metadata": {},
   "source": [
    "Now we're ready to visualize the evolution of our model. "
   ]
  },
  {
   "cell_type": "code",
   "execution_count": 37,
   "id": "c2056f97",
   "metadata": {},
   "outputs": [
    {
     "name": "stdout",
     "output_type": "stream",
     "text": [
      "244 agents moved in this timestep\n",
      "186 agents moved in this timestep\n",
      "147 agents moved in this timestep\n",
      "115 agents moved in this timestep\n",
      "100 agents moved in this timestep\n",
      "90 agents moved in this timestep\n",
      "68 agents moved in this timestep\n",
      "61 agents moved in this timestep\n",
      "56 agents moved in this timestep\n",
      "46 agents moved in this timestep\n"
     ]
    },
    {
     "data": {
      "image/png": "[encoded data removed]",
      "text/plain": [
       "<Figure size 720x288 with 10 Axes>"
      ]
     },
     "metadata": {
      "needs_background": "light"
     },
     "output_type": "display_data"
    }
   ],
   "source": [
    "fig, axarr = plt.subplots(2, 5, figsize = (10, 4))\n",
    "SM = SchellingModel(20, 20, 0.8, 0.7)\n",
    "\n",
    "t = 0\n",
    "for ax in axarr.flatten():\n",
    "    ax.axis(\"off\")\n",
    "    ax.set(title = f\"timestep {t}\")\n",
    "    viz_state(SM, ax)\n",
    "    t += 1\n",
    "    SM.step()"
   ]
  },
  {
   "cell_type": "markdown",
   "id": "f50010af",
   "metadata": {},
   "source": [
    "We observe the characteristic separation of an initially spatially mixed population into large regions of homogeneous types. \n",
    "\n",
    "In coming lectures, we'll learn how to visualize these processes more gracefully; how to collect data from simulations; and how to implement more complex models. "
   ]
  }
 ],
 "metadata": {
  "kernelspec": {
   "display_name": "Python 3.8.11 64-bit ('PIC16B': conda)",
   "language": "python",
   "name": "python3811jvsc74a57bd000ce6b323a8a0b9f3b69029fa338424bb9ad4dbfdf789891ecc2bf5c65882714"
  },
  "language_info": {
   "codemirror_mode": {
    "name": "ipython",
    "version": 3
   },
   "file_extension": ".py",
   "mimetype": "text/x-python",
   "name": "python",
   "nbconvert_exporter": "python",
   "pygments_lexer": "ipython3",
   "version": "3.8.11"
  }
 },
 "nbformat": 4,
 "nbformat_minor": 5
}
